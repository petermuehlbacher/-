{
 "metadata": {
  "name": "",
  "signature": "sha256:20a991804e40c253a4b30d1108d8c01ceffee42b2a694b56cbaea8097e729a75"
 },
 "nbformat": 3,
 "nbformat_minor": 0,
 "worksheets": [
  {
   "cells": [
    {
     "cell_type": "code",
     "collapsed": false,
     "input": [
      "api_key   = \"517d141f7c657cba99af01d370d6bb56\"\n",
      "levels    = \"1,2,3,4,5,6,7,8,9,10,11\"\n",
      "error_threshold = 3 # display it if more than 3 errors have been made\n",
      "correct_threshold = 7 # don't display it if the last 7 readings AND the last 7 meanings were correct\n",
      "\n",
      "try:\n",
      "    # For Python 3.0 and later\n",
      "    from urllib.request import urlopen\n",
      "except ImportError:\n",
      "    # Fall back to Python 2's urllib2\n",
      "    from urllib2 import urlopen\n",
      "\n",
      "import json"
     ],
     "language": "python",
     "metadata": {},
     "outputs": [],
     "prompt_number": 18
    },
    {
     "cell_type": "code",
     "collapsed": false,
     "input": [
      "response = urlopen(\"https://www.wanikani.com/api/user/\"+api_key+\"/vocabulary/\"+levels)\n",
      "data = json.loads(str(response.read()))"
     ],
     "language": "python",
     "metadata": {},
     "outputs": [],
     "prompt_number": 12
    },
    {
     "cell_type": "code",
     "collapsed": false,
     "input": [
      "filtered_data = []\n",
      "\n",
      "for item in data['requested_information']:\n",
      "    u = item['user_specific']\n",
      "    if u['reading_incorrect'] + u['meaning_incorrect'] > error_threshold and u['meaning_current_streak']<correct_threshold and u['reading_current_streak']<correct_threshold:\n",
      "        filtered_data.append([item['character'],item['kana'],item['meaning'],\n",
      "                             int(u['reading_incorrect']),int(u['reading_correct']),\n",
      "                             int(u['meaning_incorrect']),int(u['meaning_correct']),\n",
      "                             int(u['reading_incorrect']+u['meaning_incorrect'])])\n",
      "sorted_data = sorted(filtered_data, key=lambda k: k[7], reverse=True)  "
     ],
     "language": "python",
     "metadata": {},
     "outputs": [],
     "prompt_number": 19
    },
    {
     "cell_type": "code",
     "collapsed": false,
     "input": [
      "for item in sorted_data:\n",
      "    char, kana, meaning, ir, cr, im, cm, errors = item\n",
      "    \n",
      "    print(\"errors: \"+str(errors)+\", reading: \"+str(cr)+\"/\"+str(cr+ir)+\", meaning:\"+str(cm)+\"/\"+str(cm+im)+\", \"+char+u'\\uFF08'+kana+u'\\uFF09' + \" \"+meaning)"
     ],
     "language": "python",
     "metadata": {},
     "outputs": [
      {
       "output_type": "stream",
       "stream": "stdout",
       "text": [
        "errors: 16, reading: 25/35, meaning:25/31, \u751f\uff08\u306a\u307e\uff09 fresh, raw\n",
        "errors: 14, reading: 21/26, meaning:21/30, \u751f\u304d\u308b\uff08\u3044\u304d\u308b\uff09 to live, to be alive, to exist\n",
        "errors: 13, reading: 25/33, meaning:25/30, \u5e74\u4e2d\uff08\u306d\u3093\u3058\u3085\u3046\uff09 year round, all year, whole year, throughout the year, all year round\n",
        "errors: 13, reading: 30/36, meaning:30/37, \u8db3\u308a\u308b\uff08\u305f\u308a\u308b\uff09 to be enough, to be sufficient, to suffice\n",
        "errors: 13, reading: 25/33, meaning:25/30, \u7528\u3044\u308b\uff08\u3082\u3061\u3044\u308b\uff09 to utilize, to use, to utilise\n",
        "errors: 12, reading: 23/32, meaning:23/26, \u81ea\u7acb\uff08\u3058\u308a\u3064\uff09 independence\n",
        "errors: 12, reading: 20/26, meaning:20/26, \u884c\u3046\uff08\u304a\u3053\u306a\u3046\uff09 to carry out a task, to carry out, to perform, to perform a task, to do a task\n",
        "errors: 11, reading: 21/29, meaning:21/24, \u7acb\u3064\uff08\u305f\u3064\uff09 to stand\n",
        "errors: 11, reading: 23/33, meaning:23/24, \u6765\u308b\uff08\u304f\u308b\uff09 to come\n",
        "errors: 11, reading: 24/34, meaning:24/25, \u672b\uff08\u3059\u3048\uff09 the end, end\n",
        "errors: 11, reading: 18/27, meaning:18/20, \u4ed6\uff08\u307b\u304b\uff09 other\n",
        "errors: 10, reading: 26/28, meaning:26/34, \u4ea4\u305c\u308b\uff08\u307e\u305c\u308b\uff09 to mix, to mix something\n",
        "errors: 8, reading: 12/15, meaning:12/17, \u4ed5\u4e8b\uff08\u3057\u3054\u3068\uff09 job, work, occupation\n",
        "errors: 8, reading: 16/23, meaning:16/17, \u4e0d\u6b63\uff08\u3075\u305b\u3044\uff09 injustice, unfairness\n",
        "errors: 7, reading: 17/18, meaning:17/23, \u4f1a\u793e\uff08\u304b\u3044\u3057\u3083\uff09 company, corporation, the office\n",
        "errors: 7, reading: 17/21, meaning:17/20, \u5f37\u529b\uff08\u304d\u3087\u3046\u308a\u3087\u304f\uff09 strength, strong, powerful\n",
        "errors: 7, reading: 14/20, meaning:14/15, \u624b\u4f5c\u308a\uff08\u3066\u3065\u304f\u308a\uff09 handmade\n",
        "errors: 7, reading: 19/24, meaning:19/21, \u65b9\u5411\uff08\u307b\u3046\u3053\u3046\uff09 direction\n",
        "errors: 7, reading: 14/20, meaning:14/15, \u90e8\u5c4b\uff08\u3078\u3084\uff09 room\n",
        "errors: 7, reading: 17/21, meaning:17/20, \u6c0f\u540d\uff08\u3057\u3081\u3044\uff09 full name, first and last name\n",
        "errors: 7, reading: 13/18, meaning:13/15, \u901a\u3046\uff08\u304b\u3088\u3046\uff09 to commute, to attend, to go back and forth\n",
        "errors: 6, reading: 15/19, meaning:15/17, \u4eba\u6c17\uff08\u306b\u3093\u304d\uff09 popular\n",
        "errors: 6, reading: 12/14, meaning:12/16, \u767a\u8868\uff08\u306f\u3063\u3074\u3087\u3046\uff09 announcement\n",
        "errors: 6, reading: 19/24, meaning:19/20, \u301c\u4eba\uff08\u306b\u3093\uff09 number of people, people, people counter\n",
        "errors: 6, reading: 15/20, meaning:15/16, \u541b\uff08\u304d\u307f\uff09 you, buddy\n",
        "errors: 6, reading: 14/16, meaning:14/18, \u4f1a\u8a71\uff08\u304b\u3044\u308f\uff09 conversation, dialog\n",
        "errors: 6, reading: 16/20, meaning:16/18, \u8fd4\u4e8b\uff08\u3078\u3093\u3058\uff09 reply, response\n",
        "errors: 6, reading: 20/23, meaning:20/23, \u540d\uff08\u306a\uff09 name, reputation\n",
        "errors: 6, reading: 13/15, meaning:13/17, \u9593\u306b\u5408\u3046\uff08\u307e\u306b\u3042\u3046\uff09 to be in time for, to make it on time, to be on time for\n",
        "errors: 6, reading: 12/17, meaning:12/13, \u8868\uff08\u304a\u3082\u3066\uff09 front, surface, exterior, face, outside, appearance\n",
        "errors: 5, reading: 14/18, meaning:14/15, \u5973\u738b\uff08\u3058\u3087\u304a\u3046\uff09 queen\n",
        "errors: 5, reading: 15/19, meaning:15/16, \u59c9\uff08\u3042\u306d\uff09 older sister, big sister, elder sister\n",
        "errors: 5, reading: 13/17, meaning:13/14, \u898b\u9001\u308b\uff08\u307f\u304a\u304f\u308b\uff09 to see off\n",
        "errors: 5, reading: 14/18, meaning:14/15, \u5e73\u3089\uff08\u305f\u3044\u3089\uff09 flat\n",
        "errors: 5, reading: 14/18, meaning:14/15, \u8ca0\u3051\u308b\uff08\u307e\u3051\u308b\uff09 to lose, to be defeated\n",
        "errors: 4, reading: 7/9, meaning:7/9, \u5473\u65b9\uff08\u307f\u304b\u305f\uff09 ally, supporter, friend\n",
        "errors: 4, reading: 8/10, meaning:8/10, \u5473\uff08\u3042\u3058\uff09 taste, flavor, flavour\n",
        "errors: 4, reading: 12/14, meaning:12/14, \u7a7a\u8eca\uff08\u304f\u3046\u3057\u3083\uff09 open taxi, free taxi, open cab, free cab, available taxi, vacant taxi, available cab, vacant cab\n",
        "errors: 4, reading: 7/9, meaning:7/9, \u5225\u4eba\uff08\u3079\u3064\u3058\u3093\uff09 changed man, different person, different man, changed person, new man\n",
        "errors: 4, reading: 14/15, meaning:14/17, \u58f2\u308a\u5207\u308c\uff08\u3046\u308a\u304d\u308c\uff09 sold out, out of stock\n",
        "errors: 4, reading: 11/13, meaning:11/13, \u5de5\u5834\uff08\u3053\u3046\u3058\u3087\u3046, \u3053\u3046\u3070\uff09 factory\n",
        "errors: 4, reading: 13/15, meaning:13/15, \u671d\u65e5\uff08\u3042\u3055\u3072\uff09 morning sun, rising sun\n",
        "errors: 4, reading: 10/13, meaning:10/11, \u9032\u3080\uff08\u3059\u3059\u3080\uff09 to advance, to go forward, to progress\n"
       ]
      }
     ],
     "prompt_number": 20
    }
   ],
   "metadata": {}
  }
 ]
}